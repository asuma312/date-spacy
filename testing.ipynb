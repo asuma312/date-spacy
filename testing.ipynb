{
 "cells": [
  {
   "cell_type": "code",
   "execution_count": 1,
   "metadata": {},
   "outputs": [],
   "source": [
    "import spacy\n",
    "from date_spacy import find_dates"
   ]
  },
  {
   "cell_type": "code",
   "execution_count": 2,
   "metadata": {},
   "outputs": [
    {
     "data": {
      "text/plain": [
       "<function date_spacy.components.find_dates(doc)>"
      ]
     },
     "execution_count": 2,
     "metadata": {},
     "output_type": "execute_result"
    }
   ],
   "source": [
    "nlp = spacy.blank('en')\n",
    "\n",
    "# Add the component to the pipeline\n",
    "nlp.add_pipe('find_dates')"
   ]
  },
  {
   "cell_type": "code",
   "execution_count": 4,
   "metadata": {},
   "outputs": [
    {
     "name": "stdout",
     "output_type": "stream",
     "text": [
      "Text: 25th August 2023 -> Parsed Date: 2023-08-25 00:00:00\n",
      "Text: 10 September -> Parsed Date: 2023-09-10 00:00:00\n",
      "Text: twelfth of October -> Parsed Date: 2023-10-12 00:00:00\n",
      "Text: January fourth -> Parsed Date: 2023-01-04 00:00:00\n"
     ]
    }
   ],
   "source": [
    "doc = nlp(\"\"\"The event is scheduled for 25th August 2023.\n",
    "          We also have a meeting on 10 September and another one on the twelfth of October and a\n",
    "          final one on January fourth.\"\"\")\n",
    "for ent in doc.ents:\n",
    "    if ent.label_ == \"DATE\":\n",
    "        print(f\"Text: {ent.text} -> Parsed Date: {ent._.date}\")"
   ]
  },
  {
   "cell_type": "code",
   "execution_count": null,
   "metadata": {},
   "outputs": [],
   "source": []
  },
  {
   "cell_type": "code",
   "execution_count": null,
   "metadata": {},
   "outputs": [],
   "source": []
  }
 ],
 "metadata": {
  "kernelspec": {
   "display_name": "words",
   "language": "python",
   "name": "python3"
  },
  "language_info": {
   "codemirror_mode": {
    "name": "ipython",
    "version": 3
   },
   "file_extension": ".py",
   "mimetype": "text/x-python",
   "name": "python",
   "nbconvert_exporter": "python",
   "pygments_lexer": "ipython3",
   "version": "3.10.12"
  },
  "orig_nbformat": 4
 },
 "nbformat": 4,
 "nbformat_minor": 2
}
