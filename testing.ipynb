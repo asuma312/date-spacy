{
 "cells": [
  {
   "cell_type": "code",
   "metadata": {
    "ExecuteTime": {
     "end_time": "2025-05-19T22:14:12.361466Z",
     "start_time": "2025-05-19T22:14:12.358952Z"
    }
   },
   "source": [
    "import spacy\n",
    "from date_spacy import find_dates"
   ],
   "outputs": [],
   "execution_count": 4
  },
  {
   "cell_type": "code",
   "metadata": {
    "ExecuteTime": {
     "end_time": "2025-05-19T22:14:14.342805Z",
     "start_time": "2025-05-19T22:14:14.118286Z"
    }
   },
   "source": [
    "nlp = spacy.blank('en')\n",
    "\n",
    "# Add the component to the pipeline\n",
    "nlp.add_pipe('find_dates')"
   ],
   "outputs": [
    {
     "data": {
      "text/plain": [
       "<function date_spacy.components.find_dates(doc)>"
      ]
     },
     "execution_count": 5,
     "metadata": {},
     "output_type": "execute_result"
    }
   ],
   "execution_count": 5
  },
  {
   "cell_type": "code",
   "metadata": {
    "ExecuteTime": {
     "end_time": "2025-05-19T22:14:18.476836Z",
     "start_time": "2025-05-19T22:14:18.467657Z"
    }
   },
   "source": [
    "doc = nlp(\"\"\"Lei nº 15.082, de 30.12.2024\n",
    "Publicada no DOU de 31 .12.2024\"\"\")\n",
    "for ent in doc.ents:\n",
    "    print(ent.label_)\n",
    "    if ent.label_ == \"DATE\":\n",
    "        print(f\"Text: {ent.text} -> Parsed Date: {ent._.date}\")"
   ],
   "outputs": [
    {
     "name": "stdout",
     "output_type": "stream",
     "text": [
      "DATE\n",
      "Text: 30.12.2024 -> Parsed Date: 2024-12-30 00:00:00\n",
      "DATE\n",
      "Text: 31 .12.2024 -> Parsed Date: 2024-12-31 00:00:00\n"
     ]
    }
   ],
   "execution_count": 8
  },
  {
   "cell_type": "code",
   "execution_count": null,
   "metadata": {},
   "outputs": [],
   "source": []
  },
  {
   "cell_type": "code",
   "execution_count": null,
   "metadata": {},
   "outputs": [],
   "source": []
  }
 ],
 "metadata": {
  "kernelspec": {
   "display_name": "words",
   "language": "python",
   "name": "python3"
  },
  "language_info": {
   "codemirror_mode": {
    "name": "ipython",
    "version": 3
   },
   "file_extension": ".py",
   "mimetype": "text/x-python",
   "name": "python",
   "nbconvert_exporter": "python",
   "pygments_lexer": "ipython3",
   "version": "3.10.12"
  },
  "orig_nbformat": 4
 },
 "nbformat": 4,
 "nbformat_minor": 2
}
